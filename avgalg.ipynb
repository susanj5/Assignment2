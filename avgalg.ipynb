{
 "cells": [
  {
   "cell_type": "code",
   "execution_count": null,
   "metadata": {},
   "outputs": [
    {
     "name": "stdout",
     "output_type": "stream",
     "text": [
      "Input a number or type 'stop' to stop\n"
     ]
    }
   ],
   "source": [
    "# Algorithm Assignment\n",
    "total = 0\n",
    "times = 0\n",
    "\n",
    "while True:\n",
    "    print(\"Input a number or type 'stop' to stop\")\n",
    "    num = input()\n",
    "    if num == \"stop\":\n",
    "        break\n",
    "    else:\n",
    "        total += int(num)\n",
    "        times += 1\n",
    "        print(total)\n",
    "        \n",
    "    \n",
    "avg = total/times\n",
    "\n",
    "print(avg)\n",
    "\n",
    "quit()\n",
    "\n",
    "# A program to get an average of any amount of numbers added by the user."
   ]
  }
 ],
 "metadata": {
  "kernelspec": {
   "display_name": "Python 3",
   "language": "python",
   "name": "python3"
  },
  "language_info": {
   "codemirror_mode": {
    "name": "ipython",
    "version": 3
   },
   "file_extension": ".py",
   "mimetype": "text/x-python",
   "name": "python",
   "nbconvert_exporter": "python",
   "pygments_lexer": "ipython3",
   "version": "3.7.3"
  }
 },
 "nbformat": 4,
 "nbformat_minor": 2
}
